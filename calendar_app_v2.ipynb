#pip install google-api-python-client

from apiclient.discovery import build
from google_auth_oauthlib.flow import InstalledAppFlow

scopes = ['https://www.googleapis.com/auth/calendar']

flow = InstalledAppFlow.from_client_secrets_file("client_secret.json", scopes = scopes)
credentials = flow.run_console()

import pickle
pickle.dump(credentials, open("token.pkl", "wb"))
credentials = pickle.load(open('token.pkl', 'rb'))
service = build("calendar", "v3", credentials=credentials)

import datetime as dt
import dateutil.parser as parser
import time
from datetime import timedelta
import operator

### SETTING DICTS & ID ###

if 'spaced-repetition-reminders' in calname_list:
    re_index = calname_list.index('spaced-repetition-reminders')
    reminders_id = result['items'][re_index]['id']
    print('SRR already exists, calendarId stored.')
else:
    calendar = {
    'summary': 'spaced-repetition-reminders',
    'timeZone': tz,

    }

    srr_calendar = service.calendars().insert(body=calendar).execute()
    reminders_id = srr_calendar['id']
    print('SRR created, calendarId stored.')
    
    
ev_cal = service.events().list(calendarId=events_id, timeZone=tz).execute()
re_cal = service.events().list(calendarId=reminders_id, timeZone=tz).execute()

### CREATE DICTS FOR EV & RE CALENDARS ###

ev_cal = service.events().list(calendarId=events_id, timeZone=tz).execute()
re_cal = service.events().list(calendarId=reminders_id, timeZone=tz).execute()

ev_dict = {}
for i in range(len(ev_cal['items'])):
    ev_dict[ev_cal['items'][i]['summary']] = ev_cal['items'][i]['start']['dateTime']
sorted_ev_dict = sorted(ev_dict.items(), key=operator.itemgetter(1))

re_dict = {}
for i in range(len(re_cal['items'])):
    re_dict[re_cal['items'][i]['summary']] = re_cal['items'][i]['start']['dateTime']
sorted_re_dict = sorted(re_dict.items(), key=operator.itemgetter(1))


### TIME FUNCTIONS ###

set_start = dt.time(0,0,0)

def reviewstart(startdt, n):
    #change from str to dt
    dt = parser.parse(startdt)
    #add timedelta
    dayslater = dt + timedelta(days = n) #datetime
    #take date only
    reviewdate = dayslater.date() #date
    #set review time 6am
    reviewtime = set_start # time
    #combine shifted date and set time
    reviewdatetime = dt.combine(reviewdate, reviewtime) #datetime
    
    return reviewdatetime.isoformat()

def reviewend(startdt, n):
    #change from str to dt
    dt = parser.parse(startdt)
    endtime = dt + timedelta(hours = n)
    
    return endtime.isoformat()

def getdate(dt):
    dt = parser.parse(dt)
    current_date = dt.date()
    return current_date

def eventmaker(name, start, end, colour):
    event = {
    'summary': name,
    'location': 'Engineering Department, Cambridge',
    'description': ': review',
    'start': {
    'dateTime': start,
    'timeZone': tz,
    },
    'end': {
    'dateTime': end,
    'timeZone': tz,
    },
    'colorId' : colour,
    'reminders': {
    'useDefault': False,
    'overrides': [
    {'method': 'popup', 'minutes': 10},
    ],
    },
    }

    event = service.events().insert(calendarId=reminders_id, body=event).execute()
    
def start_finder(ev_start, n):
    #start_ev + 1 day
    re_date = reviewstart(ev_start, n)
    
    fb_start = dt.datetime.combine(parser.parse(re_date).date(), dt.time(0,0,0)).isoformat() + '+01:00'
    fb_end = reviewend(fb_start, 23)

    freebusy = service.freebusy().query(body={
    "calendarExpansionMax": 1,
    "groupExpansionMax": 1,
    "items": [
    {
    "id": reminders_id
    }
    ],
    "timeMax": fb_end,
    "timeMin": fb_start,
    "timeZone": "Europe/London"
    }).execute()
    
    
    
    if len(freebusy['calendars'][reminders_id]['busy']) == 0:
        start_time = dt.datetime.combine(parser.parse(re_date).date(), dt.time(6,0,0)).isoformat() + '+01:00'
        return start_time
        
    else:
        start_time = freebusy['calendars'][reminders_id]['busy'][0]['end']
        return start_time

re_checklist = []
pickle.dump(re_checklist, open('saved_re_checklist', 'wb'))

### REVIEWMAKER FUNCTION ###

#green/turquoise = colour_id:2
#yellow = colour_id:5
#red = colour_id:4

def reviewmaker(n, colour):
    
    re_checklist = pickle.load(open('saved_re_checklist', 'rb'))
    
    for i in range(len(sorted_ev_dict)):
        x = str(n)
        name = sorted_ev_dict[i][0] + '// r ' + x

        if name in re_checklist:
            pass
        else:
            ev_start = sorted_ev_dict[i][1]
            start_time = start_finder(ev_start, n)
            end_time = reviewend(start_time, 1)
            eventmaker(name, start_time, end_time, colour)

            re_checklist.append(name)
    
    pickle.dump(re_checklist, open('saved_re_checklist', 'wb'))


### FINAL FUNCTION ###

def exe(rep_list):
                
    for n in rep_list:
        if rep_list.index(n) == 0:
            reviewmaker(n, 4)
        elif rep_list.index(n) == len(rep_list) - 1:
            reviewmaker(n, 2)
        else:
            reviewmaker(n, 5)
